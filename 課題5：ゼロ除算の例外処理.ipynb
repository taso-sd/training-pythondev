{
 "cells": [
  {
   "cell_type": "markdown",
   "id": "c7562aa6",
   "metadata": {},
   "source": [
    "# ゼロ除算の例外処理"
   ]
  },
  {
   "cell_type": "code",
   "execution_count": 7,
   "id": "776eaf72",
   "metadata": {},
   "outputs": [
    {
     "name": "stdout",
     "output_type": "stream",
     "text": [
      "エラー：数値を入力してください\n",
      "処理を終了します\n"
     ]
    }
   ],
   "source": [
    "a = b = c = None\n",
    "try:\n",
    "    a = int(input(\"割られる数を入力してください：\"))\n",
    "    b = int(input(\"割る数を入力してください：\"))\n",
    "    c = a / b\n",
    "except ZeroDivisionError:\n",
    "    print(\"エラー：0で割り算しないでください\")\n",
    "except ValueError:\n",
    "    print(\"エラー：数値を入力してください\")\n",
    "else:\n",
    "    print(f\"{a} ÷ {b} = {c}\")\n",
    "finally:\n",
    "    print(\"処理を終了します\")"
   ]
  }
 ],
 "metadata": {
  "kernelspec": {
   "display_name": ".venv",
   "language": "python",
   "name": "python3"
  },
  "language_info": {
   "codemirror_mode": {
    "name": "ipython",
    "version": 3
   },
   "file_extension": ".py",
   "mimetype": "text/x-python",
   "name": "python",
   "nbconvert_exporter": "python",
   "pygments_lexer": "ipython3",
   "version": "3.12.10"
  }
 },
 "nbformat": 4,
 "nbformat_minor": 5
}
