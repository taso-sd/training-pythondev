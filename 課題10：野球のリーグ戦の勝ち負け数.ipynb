{
 "cells": [
  {
   "cell_type": "markdown",
   "id": "8bd7d509",
   "metadata": {},
   "source": [
    "# 野球のリーグ戦の勝ち負け数"
   ]
  },
  {
   "cell_type": "code",
   "execution_count": 17,
   "id": "ad250602",
   "metadata": {},
   "outputs": [],
   "source": [
    "class Baseball_Team:\n",
    "    def __init__(self, name, win=0, lose=0, draw=0):\n",
    "        self.__name = name\n",
    "        self.__win = win\n",
    "        self.__lose = lose\n",
    "        self.__draw = draw\n",
    "\n",
    "    # 勝敗数を更新するメソッド\n",
    "    def calc_win_rate(self):\n",
    "        total = self.__win + self.__lose\n",
    "        return self.__win / total if total > 0 else 0.0\n",
    "\n",
    "    # 勝敗情報を表示するメソッド\n",
    "    def show_team_result(self):\n",
    "        print(f\"{self.__name:<10}{self.__win:>4}{self.__lose:>5}{self.__draw:>5}{self.calc_win_rate():>6.3f}\")"
   ]
  },
  {
   "cell_type": "code",
   "execution_count": 19,
   "id": "e02dcf72",
   "metadata": {},
   "outputs": [
    {
     "name": "stdout",
     "output_type": "stream",
     "text": [
      "team       win lose draw rate\n",
      "Archers     77   64    2 0.546\n",
      "Meteors     71   69    3 0.507\n",
      "Cheetahs    69   68    6 0.504\n",
      "Sharks      70   70    3 0.500\n",
      "Pythons     68   73    2 0.482\n",
      "Owls        59   82    2 0.418\n"
     ]
    }
   ],
   "source": [
    "archers = Baseball_Team(\"Archers\", 77, 64, 2)\n",
    "meteors = Baseball_Team(\"Meteors\", 71, 69, 3)\n",
    "cheetahs = Baseball_Team(\"Cheetahs\", 69, 68, 6)\n",
    "sharks = Baseball_Team(\"Sharks\", 70, 70, 3)\n",
    "pythons = Baseball_Team(\"Pythons\", 68, 73, 2)\n",
    "owls = Baseball_Team(\"Owls\", 59, 82, 2)\n",
    "\n",
    "print(f\"{'team':<10}{'win':>4}{'lose':>5}{'draw':>5}{'rate':>5}\")\n",
    "archers.show_team_result()\n",
    "meteors.show_team_result()\n",
    "cheetahs.show_team_result()\n",
    "sharks.show_team_result()\n",
    "pythons.show_team_result()\n",
    "owls.show_team_result()"
   ]
  }
 ],
 "metadata": {
  "kernelspec": {
   "display_name": ".venv",
   "language": "python",
   "name": "python3"
  },
  "language_info": {
   "codemirror_mode": {
    "name": "ipython",
    "version": 3
   },
   "file_extension": ".py",
   "mimetype": "text/x-python",
   "name": "python",
   "nbconvert_exporter": "python",
   "pygments_lexer": "ipython3",
   "version": "3.12.10"
  }
 },
 "nbformat": 4,
 "nbformat_minor": 5
}
