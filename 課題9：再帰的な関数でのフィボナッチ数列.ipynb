{
 "cells": [
  {
   "cell_type": "markdown",
   "id": "86d5c4a6",
   "metadata": {},
   "source": [
    "# 再帰的な関数でのフィボナッチ数列"
   ]
  },
  {
   "cell_type": "code",
   "execution_count": 9,
   "id": "ef085cb1",
   "metadata": {},
   "outputs": [
    {
     "name": "stdout",
     "output_type": "stream",
     "text": [
      "55\n"
     ]
    }
   ],
   "source": [
    "import prognum\n",
    "\n",
    "n = input(\"何番目の数値を求めますか？：\")\n",
    "print(prognum.fibonacci(int(n)))"
   ]
  }
 ],
 "metadata": {
  "kernelspec": {
   "display_name": ".venv",
   "language": "python",
   "name": "python3"
  },
  "language_info": {
   "codemirror_mode": {
    "name": "ipython",
    "version": 3
   },
   "file_extension": ".py",
   "mimetype": "text/x-python",
   "name": "python",
   "nbconvert_exporter": "python",
   "pygments_lexer": "ipython3",
   "version": "3.12.10"
  }
 },
 "nbformat": 4,
 "nbformat_minor": 5
}
