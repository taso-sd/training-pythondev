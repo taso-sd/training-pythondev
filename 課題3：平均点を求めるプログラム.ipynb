{
 "cells": [
  {
   "cell_type": "markdown",
   "id": "d511e8e1",
   "metadata": {},
   "source": [
    "# 平均点を求めるプログラム"
   ]
  },
  {
   "cell_type": "code",
   "execution_count": 11,
   "id": "4c6695f8",
   "metadata": {},
   "outputs": [
    {
     "name": "stdout",
     "output_type": "stream",
     "text": [
      "10人のテストの平均点は73.4点です\n"
     ]
    }
   ],
   "source": [
    "count = 0\n",
    "total = 0\n",
    "\n",
    "while True:\n",
    "    score = input(\"点数を入力してください\")\n",
    "    score = int(score)\n",
    "\n",
    "    if score == -1:\n",
    "        break\n",
    "\n",
    "    count += 1\n",
    "    total += score\n",
    "\n",
    "average = round(total / count, 2)\n",
    "print(f\"{count}人のテストの平均点は{average:.1f}点です\")"
   ]
  }
 ],
 "metadata": {
  "kernelspec": {
   "display_name": "Python 3",
   "language": "python",
   "name": "python3"
  },
  "language_info": {
   "codemirror_mode": {
    "name": "ipython",
    "version": 3
   },
   "file_extension": ".py",
   "mimetype": "text/x-python",
   "name": "python",
   "nbconvert_exporter": "python",
   "pygments_lexer": "ipython3",
   "version": "3.12.10"
  }
 },
 "nbformat": 4,
 "nbformat_minor": 5
}
