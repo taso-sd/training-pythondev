{
 "cells": [
  {
   "cell_type": "markdown",
   "id": "5586fc63",
   "metadata": {},
   "source": [
    "# 単語内の文字数カウント"
   ]
  },
  {
   "cell_type": "code",
   "execution_count": null,
   "id": "070b08af",
   "metadata": {},
   "outputs": [
    {
     "name": "stdout",
     "output_type": "stream",
     "text": [
      "入力した英単語： ['bear', 'cat', 'dog', 'giraffe', 'horse', 'kangaroo']\n",
      "aが5個ありました\n",
      "bが1個ありました\n",
      "cが1個ありました\n",
      "dが1個ありました\n",
      "eが3個ありました\n",
      "fが2個ありました\n",
      "gが3個ありました\n",
      "hが1個ありました\n",
      "iが1個ありました\n",
      "kが1個ありました\n",
      "nが1個ありました\n",
      "oが4個ありました\n",
      "rが4個ありました\n",
      "sが1個ありました\n",
      "tが1個ありました\n"
     ]
    },
    {
     "data": {
      "text/plain": [
       "{'a': 5,\n",
       " 'b': 1,\n",
       " 'c': 1,\n",
       " 'd': 1,\n",
       " 'e': 3,\n",
       " 'f': 2,\n",
       " 'g': 3,\n",
       " 'h': 1,\n",
       " 'i': 1,\n",
       " 'j': 0,\n",
       " 'k': 1,\n",
       " 'l': 0,\n",
       " 'm': 0,\n",
       " 'n': 1,\n",
       " 'o': 4,\n",
       " 'p': 0,\n",
       " 'q': 0,\n",
       " 'r': 4,\n",
       " 's': 1,\n",
       " 't': 1,\n",
       " 'u': 0,\n",
       " 'v': 0,\n",
       " 'w': 0,\n",
       " 'x': 0,\n",
       " 'y': 0,\n",
       " 'z': 0}"
      ]
     },
     "execution_count": 23,
     "metadata": {},
     "output_type": "execute_result"
    }
   ],
   "source": [
    "# 英単語リスト\n",
    "words_list = []\n",
    "\n",
    "# 文字数辞書\n",
    "char_dict = dict.fromkeys(list(chr(i) for i in range(97, 123)), 0)\n",
    "\n",
    "# 入力受付\n",
    "while True:\n",
    "    word = input(\"英単語を入力してください\")\n",
    "\n",
    "    # 未入力でのEnterキー押下で終了\n",
    "    if word == \"\":\n",
    "        break\n",
    "\n",
    "    # 英単語リスト追加\n",
    "    words_list.append(word)\n",
    "\n",
    "    # 文字数辞書カウント\n",
    "    for c in word:\n",
    "        if c in char_dict.keys():\n",
    "            char_dict[c] += 1\n",
    "\n",
    "\n",
    "# 英単語表示（昇順）\n",
    "print(\"入力した英単語：\", sorted(words_list))\n",
    "\n",
    "# 1個以上出現した文字を表示\n",
    "for char, count in char_dict.items():\n",
    "    if count > 0:\n",
    "        print(f\"{char}が{count}個ありました\")\n"
   ]
  },
  {
   "cell_type": "code",
   "execution_count": 20,
   "id": "77ba2325",
   "metadata": {},
   "outputs": [
    {
     "name": "stdout",
     "output_type": "stream",
     "text": [
      "a\n",
      "b\n",
      "c\n",
      "d\n"
     ]
    }
   ],
   "source": [
    "for i in \"abcd\":\n",
    "    print(i)"
   ]
  }
 ],
 "metadata": {
  "kernelspec": {
   "display_name": ".venv",
   "language": "python",
   "name": "python3"
  },
  "language_info": {
   "codemirror_mode": {
    "name": "ipython",
    "version": 3
   },
   "file_extension": ".py",
   "mimetype": "text/x-python",
   "name": "python",
   "nbconvert_exporter": "python",
   "pygments_lexer": "ipython3",
   "version": "3.12.10"
  }
 },
 "nbformat": 4,
 "nbformat_minor": 5
}
